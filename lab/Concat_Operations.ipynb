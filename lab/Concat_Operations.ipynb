{
  "nbformat_minor": 0,
  "cells": [
    {
      "cell_type": "markdown",
      "metadata": {
        "id": "view-in-github",
        "colab_type": "text"
      },
      "source": [
        "<a href=\"https://colab.research.google.com/github/thousandoaks/Python4DS102/blob/main/lab/Concat_Operations.ipynb\" target=\"_parent\"><img src=\"https://colab.research.google.com/assets/colab-badge.svg\" alt=\"Open In Colab\"/></a>"
      ]
    },
    {
      "source": [
        "#  Concat Operations"
      ],
      "cell_type": "markdown",
      "metadata": {
        "id": "rHLcriKWLRe4"
      }
    },
    {
      "source": [
        "**Learning Objectives:**\n",
        "  * Gain an introduction to concat operation using the *pandas* library\n",
        "  * Combine several similar `DataFrames` into a  `DataFrame` applying concat operations\n",
        "  "
      ],
      "cell_type": "markdown",
      "metadata": {
        "id": "QvJBqX8_Bctk"
      }
    },
    {
      "source": [
        "## Library import\n",
        "\n",
        "The following line imports the *pandas* library"
      ],
      "cell_type": "markdown",
      "metadata": {
        "id": "s_JOISVgmn9v"
      }
    },
    {
      "source": [
        "import pandas as pd\n"
      ],
      "cell_type": "code",
      "execution_count": 1,
      "outputs": [],
      "metadata": {
        "id": "aSRYu62xUi3g"
      }
    },
    {
      "cell_type": "markdown",
      "source": [
        "## Data loading and DataFrame creation\n"
      ],
      "metadata": {
        "id": "IhMO8wRGpgvc"
      }
    },
    {
      "source": [
        ". The following example loads files with air quality data and creates a couple of `DataFrames`"
      ],
      "cell_type": "markdown",
      "metadata": {
        "id": "oa5wfZT7VHJl"
      }
    },
    {
      "source": [
        "air_quality_no2 = pd.read_csv(\"https://raw.githubusercontent.com/thousandoaks/Python4DS102/main/data/air_quality_no2_long.csv\",\n",
        "                              parse_dates=True)\n"
      ],
      "cell_type": "code",
      "execution_count": 2,
      "outputs": [],
      "metadata": {
        "id": "av6RYOraVG1V"
      }
    },
    {
      "cell_type": "code",
      "source": [
        "air_quality_no2 = air_quality_no2[[\"date.utc\", \"location\",\n",
        "                                   \"parameter\", \"value\"]]"
      ],
      "metadata": {
        "id": "Vu04A7KBcPvA"
      },
      "execution_count": 3,
      "outputs": []
    },
    {
      "source": [
        "Let's display the first few records of the `DataFrame`:"
      ],
      "cell_type": "markdown",
      "metadata": {
        "id": "WrkBjfz5kEQu"
      }
    },
    {
      "source": [
        "air_quality_no2.head()"
      ],
      "cell_type": "code",
      "execution_count": 4,
      "outputs": [
        {
          "output_type": "execute_result",
          "data": {
            "text/plain": [
              "                    date.utc location parameter  value\n",
              "0  2019-06-21 00:00:00+00:00  FR04014       no2   20.0\n",
              "1  2019-06-20 23:00:00+00:00  FR04014       no2   21.8\n",
              "2  2019-06-20 22:00:00+00:00  FR04014       no2   26.5\n",
              "3  2019-06-20 21:00:00+00:00  FR04014       no2   24.9\n",
              "4  2019-06-20 20:00:00+00:00  FR04014       no2   21.4"
            ],
            "text/html": [
              "\n",
              "  <div id=\"df-54dbd141-6c7e-4601-a3bd-d818518dac0c\">\n",
              "    <div class=\"colab-df-container\">\n",
              "      <div>\n",
              "<style scoped>\n",
              "    .dataframe tbody tr th:only-of-type {\n",
              "        vertical-align: middle;\n",
              "    }\n",
              "\n",
              "    .dataframe tbody tr th {\n",
              "        vertical-align: top;\n",
              "    }\n",
              "\n",
              "    .dataframe thead th {\n",
              "        text-align: right;\n",
              "    }\n",
              "</style>\n",
              "<table border=\"1\" class=\"dataframe\">\n",
              "  <thead>\n",
              "    <tr style=\"text-align: right;\">\n",
              "      <th></th>\n",
              "      <th>date.utc</th>\n",
              "      <th>location</th>\n",
              "      <th>parameter</th>\n",
              "      <th>value</th>\n",
              "    </tr>\n",
              "  </thead>\n",
              "  <tbody>\n",
              "    <tr>\n",
              "      <th>0</th>\n",
              "      <td>2019-06-21 00:00:00+00:00</td>\n",
              "      <td>FR04014</td>\n",
              "      <td>no2</td>\n",
              "      <td>20.0</td>\n",
              "    </tr>\n",
              "    <tr>\n",
              "      <th>1</th>\n",
              "      <td>2019-06-20 23:00:00+00:00</td>\n",
              "      <td>FR04014</td>\n",
              "      <td>no2</td>\n",
              "      <td>21.8</td>\n",
              "    </tr>\n",
              "    <tr>\n",
              "      <th>2</th>\n",
              "      <td>2019-06-20 22:00:00+00:00</td>\n",
              "      <td>FR04014</td>\n",
              "      <td>no2</td>\n",
              "      <td>26.5</td>\n",
              "    </tr>\n",
              "    <tr>\n",
              "      <th>3</th>\n",
              "      <td>2019-06-20 21:00:00+00:00</td>\n",
              "      <td>FR04014</td>\n",
              "      <td>no2</td>\n",
              "      <td>24.9</td>\n",
              "    </tr>\n",
              "    <tr>\n",
              "      <th>4</th>\n",
              "      <td>2019-06-20 20:00:00+00:00</td>\n",
              "      <td>FR04014</td>\n",
              "      <td>no2</td>\n",
              "      <td>21.4</td>\n",
              "    </tr>\n",
              "  </tbody>\n",
              "</table>\n",
              "</div>\n",
              "      <button class=\"colab-df-convert\" onclick=\"convertToInteractive('df-54dbd141-6c7e-4601-a3bd-d818518dac0c')\"\n",
              "              title=\"Convert this dataframe to an interactive table.\"\n",
              "              style=\"display:none;\">\n",
              "        \n",
              "  <svg xmlns=\"http://www.w3.org/2000/svg\" height=\"24px\"viewBox=\"0 0 24 24\"\n",
              "       width=\"24px\">\n",
              "    <path d=\"M0 0h24v24H0V0z\" fill=\"none\"/>\n",
              "    <path d=\"M18.56 5.44l.94 2.06.94-2.06 2.06-.94-2.06-.94-.94-2.06-.94 2.06-2.06.94zm-11 1L8.5 8.5l.94-2.06 2.06-.94-2.06-.94L8.5 2.5l-.94 2.06-2.06.94zm10 10l.94 2.06.94-2.06 2.06-.94-2.06-.94-.94-2.06-.94 2.06-2.06.94z\"/><path d=\"M17.41 7.96l-1.37-1.37c-.4-.4-.92-.59-1.43-.59-.52 0-1.04.2-1.43.59L10.3 9.45l-7.72 7.72c-.78.78-.78 2.05 0 2.83L4 21.41c.39.39.9.59 1.41.59.51 0 1.02-.2 1.41-.59l7.78-7.78 2.81-2.81c.8-.78.8-2.07 0-2.86zM5.41 20L4 18.59l7.72-7.72 1.47 1.35L5.41 20z\"/>\n",
              "  </svg>\n",
              "      </button>\n",
              "      \n",
              "  <style>\n",
              "    .colab-df-container {\n",
              "      display:flex;\n",
              "      flex-wrap:wrap;\n",
              "      gap: 12px;\n",
              "    }\n",
              "\n",
              "    .colab-df-convert {\n",
              "      background-color: #E8F0FE;\n",
              "      border: none;\n",
              "      border-radius: 50%;\n",
              "      cursor: pointer;\n",
              "      display: none;\n",
              "      fill: #1967D2;\n",
              "      height: 32px;\n",
              "      padding: 0 0 0 0;\n",
              "      width: 32px;\n",
              "    }\n",
              "\n",
              "    .colab-df-convert:hover {\n",
              "      background-color: #E2EBFA;\n",
              "      box-shadow: 0px 1px 2px rgba(60, 64, 67, 0.3), 0px 1px 3px 1px rgba(60, 64, 67, 0.15);\n",
              "      fill: #174EA6;\n",
              "    }\n",
              "\n",
              "    [theme=dark] .colab-df-convert {\n",
              "      background-color: #3B4455;\n",
              "      fill: #D2E3FC;\n",
              "    }\n",
              "\n",
              "    [theme=dark] .colab-df-convert:hover {\n",
              "      background-color: #434B5C;\n",
              "      box-shadow: 0px 1px 3px 1px rgba(0, 0, 0, 0.15);\n",
              "      filter: drop-shadow(0px 1px 2px rgba(0, 0, 0, 0.3));\n",
              "      fill: #FFFFFF;\n",
              "    }\n",
              "  </style>\n",
              "\n",
              "      <script>\n",
              "        const buttonEl =\n",
              "          document.querySelector('#df-54dbd141-6c7e-4601-a3bd-d818518dac0c button.colab-df-convert');\n",
              "        buttonEl.style.display =\n",
              "          google.colab.kernel.accessAllowed ? 'block' : 'none';\n",
              "\n",
              "        async function convertToInteractive(key) {\n",
              "          const element = document.querySelector('#df-54dbd141-6c7e-4601-a3bd-d818518dac0c');\n",
              "          const dataTable =\n",
              "            await google.colab.kernel.invokeFunction('convertToInteractive',\n",
              "                                                     [key], {});\n",
              "          if (!dataTable) return;\n",
              "\n",
              "          const docLinkHtml = 'Like what you see? Visit the ' +\n",
              "            '<a target=\"_blank\" href=https://colab.research.google.com/notebooks/data_table.ipynb>data table notebook</a>'\n",
              "            + ' to learn more about interactive tables.';\n",
              "          element.innerHTML = '';\n",
              "          dataTable['output_type'] = 'display_data';\n",
              "          await google.colab.output.renderOutput(dataTable, element);\n",
              "          const docLink = document.createElement('div');\n",
              "          docLink.innerHTML = docLinkHtml;\n",
              "          element.appendChild(docLink);\n",
              "        }\n",
              "      </script>\n",
              "    </div>\n",
              "  </div>\n",
              "  "
            ]
          },
          "metadata": {},
          "execution_count": 4
        }
      ],
      "metadata": {
        "id": "s3ND3bgOkB5k",
        "colab": {
          "base_uri": "https://localhost:8080/",
          "height": 206
        },
        "outputId": "b74d15b7-87bf-4c2e-ee50-0aa8d97c39e5"
      }
    },
    {
      "cell_type": "code",
      "source": [
        "air_quality_pm25 = pd.read_csv(\"https://raw.githubusercontent.com/thousandoaks/Python4DS102/main/data/air_quality_pm25_long.csv\",\n",
        "                               parse_dates=True)"
      ],
      "metadata": {
        "id": "cxDLLfSBcX98"
      },
      "execution_count": 5,
      "outputs": []
    },
    {
      "cell_type": "code",
      "source": [
        "air_quality_pm25 = air_quality_pm25[[\"date.utc\", \"location\",\n",
        "                                     \"parameter\", \"value\"]]"
      ],
      "metadata": {
        "id": "JQlx04jmcX3k"
      },
      "execution_count": 6,
      "outputs": []
    },
    {
      "cell_type": "code",
      "source": [
        "air_quality_pm25.head()"
      ],
      "metadata": {
        "colab": {
          "base_uri": "https://localhost:8080/",
          "height": 206
        },
        "id": "Em8YgLvGcXsJ",
        "outputId": "522517e9-47ee-4c60-b1c0-be14c82abafb"
      },
      "execution_count": 7,
      "outputs": [
        {
          "output_type": "execute_result",
          "data": {
            "text/plain": [
              "                    date.utc location parameter  value\n",
              "0  2019-06-18 06:00:00+00:00  BETR801      pm25   18.0\n",
              "1  2019-06-17 08:00:00+00:00  BETR801      pm25    6.5\n",
              "2  2019-06-17 07:00:00+00:00  BETR801      pm25   18.5\n",
              "3  2019-06-17 06:00:00+00:00  BETR801      pm25   16.0\n",
              "4  2019-06-17 05:00:00+00:00  BETR801      pm25    7.5"
            ],
            "text/html": [
              "\n",
              "  <div id=\"df-0494845e-b87d-4ce5-bdf7-80ac2ccfd4a0\">\n",
              "    <div class=\"colab-df-container\">\n",
              "      <div>\n",
              "<style scoped>\n",
              "    .dataframe tbody tr th:only-of-type {\n",
              "        vertical-align: middle;\n",
              "    }\n",
              "\n",
              "    .dataframe tbody tr th {\n",
              "        vertical-align: top;\n",
              "    }\n",
              "\n",
              "    .dataframe thead th {\n",
              "        text-align: right;\n",
              "    }\n",
              "</style>\n",
              "<table border=\"1\" class=\"dataframe\">\n",
              "  <thead>\n",
              "    <tr style=\"text-align: right;\">\n",
              "      <th></th>\n",
              "      <th>date.utc</th>\n",
              "      <th>location</th>\n",
              "      <th>parameter</th>\n",
              "      <th>value</th>\n",
              "    </tr>\n",
              "  </thead>\n",
              "  <tbody>\n",
              "    <tr>\n",
              "      <th>0</th>\n",
              "      <td>2019-06-18 06:00:00+00:00</td>\n",
              "      <td>BETR801</td>\n",
              "      <td>pm25</td>\n",
              "      <td>18.0</td>\n",
              "    </tr>\n",
              "    <tr>\n",
              "      <th>1</th>\n",
              "      <td>2019-06-17 08:00:00+00:00</td>\n",
              "      <td>BETR801</td>\n",
              "      <td>pm25</td>\n",
              "      <td>6.5</td>\n",
              "    </tr>\n",
              "    <tr>\n",
              "      <th>2</th>\n",
              "      <td>2019-06-17 07:00:00+00:00</td>\n",
              "      <td>BETR801</td>\n",
              "      <td>pm25</td>\n",
              "      <td>18.5</td>\n",
              "    </tr>\n",
              "    <tr>\n",
              "      <th>3</th>\n",
              "      <td>2019-06-17 06:00:00+00:00</td>\n",
              "      <td>BETR801</td>\n",
              "      <td>pm25</td>\n",
              "      <td>16.0</td>\n",
              "    </tr>\n",
              "    <tr>\n",
              "      <th>4</th>\n",
              "      <td>2019-06-17 05:00:00+00:00</td>\n",
              "      <td>BETR801</td>\n",
              "      <td>pm25</td>\n",
              "      <td>7.5</td>\n",
              "    </tr>\n",
              "  </tbody>\n",
              "</table>\n",
              "</div>\n",
              "      <button class=\"colab-df-convert\" onclick=\"convertToInteractive('df-0494845e-b87d-4ce5-bdf7-80ac2ccfd4a0')\"\n",
              "              title=\"Convert this dataframe to an interactive table.\"\n",
              "              style=\"display:none;\">\n",
              "        \n",
              "  <svg xmlns=\"http://www.w3.org/2000/svg\" height=\"24px\"viewBox=\"0 0 24 24\"\n",
              "       width=\"24px\">\n",
              "    <path d=\"M0 0h24v24H0V0z\" fill=\"none\"/>\n",
              "    <path d=\"M18.56 5.44l.94 2.06.94-2.06 2.06-.94-2.06-.94-.94-2.06-.94 2.06-2.06.94zm-11 1L8.5 8.5l.94-2.06 2.06-.94-2.06-.94L8.5 2.5l-.94 2.06-2.06.94zm10 10l.94 2.06.94-2.06 2.06-.94-2.06-.94-.94-2.06-.94 2.06-2.06.94z\"/><path d=\"M17.41 7.96l-1.37-1.37c-.4-.4-.92-.59-1.43-.59-.52 0-1.04.2-1.43.59L10.3 9.45l-7.72 7.72c-.78.78-.78 2.05 0 2.83L4 21.41c.39.39.9.59 1.41.59.51 0 1.02-.2 1.41-.59l7.78-7.78 2.81-2.81c.8-.78.8-2.07 0-2.86zM5.41 20L4 18.59l7.72-7.72 1.47 1.35L5.41 20z\"/>\n",
              "  </svg>\n",
              "      </button>\n",
              "      \n",
              "  <style>\n",
              "    .colab-df-container {\n",
              "      display:flex;\n",
              "      flex-wrap:wrap;\n",
              "      gap: 12px;\n",
              "    }\n",
              "\n",
              "    .colab-df-convert {\n",
              "      background-color: #E8F0FE;\n",
              "      border: none;\n",
              "      border-radius: 50%;\n",
              "      cursor: pointer;\n",
              "      display: none;\n",
              "      fill: #1967D2;\n",
              "      height: 32px;\n",
              "      padding: 0 0 0 0;\n",
              "      width: 32px;\n",
              "    }\n",
              "\n",
              "    .colab-df-convert:hover {\n",
              "      background-color: #E2EBFA;\n",
              "      box-shadow: 0px 1px 2px rgba(60, 64, 67, 0.3), 0px 1px 3px 1px rgba(60, 64, 67, 0.15);\n",
              "      fill: #174EA6;\n",
              "    }\n",
              "\n",
              "    [theme=dark] .colab-df-convert {\n",
              "      background-color: #3B4455;\n",
              "      fill: #D2E3FC;\n",
              "    }\n",
              "\n",
              "    [theme=dark] .colab-df-convert:hover {\n",
              "      background-color: #434B5C;\n",
              "      box-shadow: 0px 1px 3px 1px rgba(0, 0, 0, 0.15);\n",
              "      filter: drop-shadow(0px 1px 2px rgba(0, 0, 0, 0.3));\n",
              "      fill: #FFFFFF;\n",
              "    }\n",
              "  </style>\n",
              "\n",
              "      <script>\n",
              "        const buttonEl =\n",
              "          document.querySelector('#df-0494845e-b87d-4ce5-bdf7-80ac2ccfd4a0 button.colab-df-convert');\n",
              "        buttonEl.style.display =\n",
              "          google.colab.kernel.accessAllowed ? 'block' : 'none';\n",
              "\n",
              "        async function convertToInteractive(key) {\n",
              "          const element = document.querySelector('#df-0494845e-b87d-4ce5-bdf7-80ac2ccfd4a0');\n",
              "          const dataTable =\n",
              "            await google.colab.kernel.invokeFunction('convertToInteractive',\n",
              "                                                     [key], {});\n",
              "          if (!dataTable) return;\n",
              "\n",
              "          const docLinkHtml = 'Like what you see? Visit the ' +\n",
              "            '<a target=\"_blank\" href=https://colab.research.google.com/notebooks/data_table.ipynb>data table notebook</a>'\n",
              "            + ' to learn more about interactive tables.';\n",
              "          element.innerHTML = '';\n",
              "          dataTable['output_type'] = 'display_data';\n",
              "          await google.colab.output.renderOutput(dataTable, element);\n",
              "          const docLink = document.createElement('div');\n",
              "          docLink.innerHTML = docLinkHtml;\n",
              "          element.appendChild(docLink);\n",
              "        }\n",
              "      </script>\n",
              "    </div>\n",
              "  </div>\n",
              "  "
            ]
          },
          "metadata": {},
          "execution_count": 7
        }
      ]
    },
    {
      "cell_type": "markdown",
      "source": [
        "## Concat Operations"
      ],
      "metadata": {
        "id": "XoDN-Qe0p41J"
      }
    },
    {
      "cell_type": "markdown",
      "source": [
        "We want to combine the measurements of NO2 and PM25, two tables with a similar structure, in a single table.\n",
        "\n",
        "\n"
      ],
      "metadata": {
        "id": "7vO4Bh0NqKNL"
      }
    },
    {
      "cell_type": "markdown",
      "source": [
        "<img src='https://pandas.pydata.org/pandas-docs/stable/_images/08_concat_row.svg'>"
      ],
      "metadata": {
        "id": "AcExW5IlcM-w"
      }
    },
    {
      "cell_type": "code",
      "source": [
        "air_quality = pd.concat([air_quality_pm25, air_quality_no2], axis=0)"
      ],
      "metadata": {
        "id": "hgrVMeHCp8Us"
      },
      "execution_count": 8,
      "outputs": []
    },
    {
      "cell_type": "code",
      "source": [
        "air_quality"
      ],
      "metadata": {
        "colab": {
          "base_uri": "https://localhost:8080/",
          "height": 424
        },
        "id": "CnkpqpdqdmVN",
        "outputId": "5b6ada00-d9b1-4c8e-e96d-849fc614dd8f"
      },
      "execution_count": 10,
      "outputs": [
        {
          "output_type": "execute_result",
          "data": {
            "text/plain": [
              "                       date.utc            location parameter  value\n",
              "0     2019-06-18 06:00:00+00:00             BETR801      pm25   18.0\n",
              "1     2019-06-17 08:00:00+00:00             BETR801      pm25    6.5\n",
              "2     2019-06-17 07:00:00+00:00             BETR801      pm25   18.5\n",
              "3     2019-06-17 06:00:00+00:00             BETR801      pm25   16.0\n",
              "4     2019-06-17 05:00:00+00:00             BETR801      pm25    7.5\n",
              "...                         ...                 ...       ...    ...\n",
              "2063  2019-05-07 06:00:00+00:00  London Westminster       no2   26.0\n",
              "2064  2019-05-07 04:00:00+00:00  London Westminster       no2   16.0\n",
              "2065  2019-05-07 03:00:00+00:00  London Westminster       no2   19.0\n",
              "2066  2019-05-07 02:00:00+00:00  London Westminster       no2   19.0\n",
              "2067  2019-05-07 01:00:00+00:00  London Westminster       no2   23.0\n",
              "\n",
              "[3178 rows x 4 columns]"
            ],
            "text/html": [
              "\n",
              "  <div id=\"df-04ec6573-6839-43d0-8f59-9cae87052a41\">\n",
              "    <div class=\"colab-df-container\">\n",
              "      <div>\n",
              "<style scoped>\n",
              "    .dataframe tbody tr th:only-of-type {\n",
              "        vertical-align: middle;\n",
              "    }\n",
              "\n",
              "    .dataframe tbody tr th {\n",
              "        vertical-align: top;\n",
              "    }\n",
              "\n",
              "    .dataframe thead th {\n",
              "        text-align: right;\n",
              "    }\n",
              "</style>\n",
              "<table border=\"1\" class=\"dataframe\">\n",
              "  <thead>\n",
              "    <tr style=\"text-align: right;\">\n",
              "      <th></th>\n",
              "      <th>date.utc</th>\n",
              "      <th>location</th>\n",
              "      <th>parameter</th>\n",
              "      <th>value</th>\n",
              "    </tr>\n",
              "  </thead>\n",
              "  <tbody>\n",
              "    <tr>\n",
              "      <th>0</th>\n",
              "      <td>2019-06-18 06:00:00+00:00</td>\n",
              "      <td>BETR801</td>\n",
              "      <td>pm25</td>\n",
              "      <td>18.0</td>\n",
              "    </tr>\n",
              "    <tr>\n",
              "      <th>1</th>\n",
              "      <td>2019-06-17 08:00:00+00:00</td>\n",
              "      <td>BETR801</td>\n",
              "      <td>pm25</td>\n",
              "      <td>6.5</td>\n",
              "    </tr>\n",
              "    <tr>\n",
              "      <th>2</th>\n",
              "      <td>2019-06-17 07:00:00+00:00</td>\n",
              "      <td>BETR801</td>\n",
              "      <td>pm25</td>\n",
              "      <td>18.5</td>\n",
              "    </tr>\n",
              "    <tr>\n",
              "      <th>3</th>\n",
              "      <td>2019-06-17 06:00:00+00:00</td>\n",
              "      <td>BETR801</td>\n",
              "      <td>pm25</td>\n",
              "      <td>16.0</td>\n",
              "    </tr>\n",
              "    <tr>\n",
              "      <th>4</th>\n",
              "      <td>2019-06-17 05:00:00+00:00</td>\n",
              "      <td>BETR801</td>\n",
              "      <td>pm25</td>\n",
              "      <td>7.5</td>\n",
              "    </tr>\n",
              "    <tr>\n",
              "      <th>...</th>\n",
              "      <td>...</td>\n",
              "      <td>...</td>\n",
              "      <td>...</td>\n",
              "      <td>...</td>\n",
              "    </tr>\n",
              "    <tr>\n",
              "      <th>2063</th>\n",
              "      <td>2019-05-07 06:00:00+00:00</td>\n",
              "      <td>London Westminster</td>\n",
              "      <td>no2</td>\n",
              "      <td>26.0</td>\n",
              "    </tr>\n",
              "    <tr>\n",
              "      <th>2064</th>\n",
              "      <td>2019-05-07 04:00:00+00:00</td>\n",
              "      <td>London Westminster</td>\n",
              "      <td>no2</td>\n",
              "      <td>16.0</td>\n",
              "    </tr>\n",
              "    <tr>\n",
              "      <th>2065</th>\n",
              "      <td>2019-05-07 03:00:00+00:00</td>\n",
              "      <td>London Westminster</td>\n",
              "      <td>no2</td>\n",
              "      <td>19.0</td>\n",
              "    </tr>\n",
              "    <tr>\n",
              "      <th>2066</th>\n",
              "      <td>2019-05-07 02:00:00+00:00</td>\n",
              "      <td>London Westminster</td>\n",
              "      <td>no2</td>\n",
              "      <td>19.0</td>\n",
              "    </tr>\n",
              "    <tr>\n",
              "      <th>2067</th>\n",
              "      <td>2019-05-07 01:00:00+00:00</td>\n",
              "      <td>London Westminster</td>\n",
              "      <td>no2</td>\n",
              "      <td>23.0</td>\n",
              "    </tr>\n",
              "  </tbody>\n",
              "</table>\n",
              "<p>3178 rows × 4 columns</p>\n",
              "</div>\n",
              "      <button class=\"colab-df-convert\" onclick=\"convertToInteractive('df-04ec6573-6839-43d0-8f59-9cae87052a41')\"\n",
              "              title=\"Convert this dataframe to an interactive table.\"\n",
              "              style=\"display:none;\">\n",
              "        \n",
              "  <svg xmlns=\"http://www.w3.org/2000/svg\" height=\"24px\"viewBox=\"0 0 24 24\"\n",
              "       width=\"24px\">\n",
              "    <path d=\"M0 0h24v24H0V0z\" fill=\"none\"/>\n",
              "    <path d=\"M18.56 5.44l.94 2.06.94-2.06 2.06-.94-2.06-.94-.94-2.06-.94 2.06-2.06.94zm-11 1L8.5 8.5l.94-2.06 2.06-.94-2.06-.94L8.5 2.5l-.94 2.06-2.06.94zm10 10l.94 2.06.94-2.06 2.06-.94-2.06-.94-.94-2.06-.94 2.06-2.06.94z\"/><path d=\"M17.41 7.96l-1.37-1.37c-.4-.4-.92-.59-1.43-.59-.52 0-1.04.2-1.43.59L10.3 9.45l-7.72 7.72c-.78.78-.78 2.05 0 2.83L4 21.41c.39.39.9.59 1.41.59.51 0 1.02-.2 1.41-.59l7.78-7.78 2.81-2.81c.8-.78.8-2.07 0-2.86zM5.41 20L4 18.59l7.72-7.72 1.47 1.35L5.41 20z\"/>\n",
              "  </svg>\n",
              "      </button>\n",
              "      \n",
              "  <style>\n",
              "    .colab-df-container {\n",
              "      display:flex;\n",
              "      flex-wrap:wrap;\n",
              "      gap: 12px;\n",
              "    }\n",
              "\n",
              "    .colab-df-convert {\n",
              "      background-color: #E8F0FE;\n",
              "      border: none;\n",
              "      border-radius: 50%;\n",
              "      cursor: pointer;\n",
              "      display: none;\n",
              "      fill: #1967D2;\n",
              "      height: 32px;\n",
              "      padding: 0 0 0 0;\n",
              "      width: 32px;\n",
              "    }\n",
              "\n",
              "    .colab-df-convert:hover {\n",
              "      background-color: #E2EBFA;\n",
              "      box-shadow: 0px 1px 2px rgba(60, 64, 67, 0.3), 0px 1px 3px 1px rgba(60, 64, 67, 0.15);\n",
              "      fill: #174EA6;\n",
              "    }\n",
              "\n",
              "    [theme=dark] .colab-df-convert {\n",
              "      background-color: #3B4455;\n",
              "      fill: #D2E3FC;\n",
              "    }\n",
              "\n",
              "    [theme=dark] .colab-df-convert:hover {\n",
              "      background-color: #434B5C;\n",
              "      box-shadow: 0px 1px 3px 1px rgba(0, 0, 0, 0.15);\n",
              "      filter: drop-shadow(0px 1px 2px rgba(0, 0, 0, 0.3));\n",
              "      fill: #FFFFFF;\n",
              "    }\n",
              "  </style>\n",
              "\n",
              "      <script>\n",
              "        const buttonEl =\n",
              "          document.querySelector('#df-04ec6573-6839-43d0-8f59-9cae87052a41 button.colab-df-convert');\n",
              "        buttonEl.style.display =\n",
              "          google.colab.kernel.accessAllowed ? 'block' : 'none';\n",
              "\n",
              "        async function convertToInteractive(key) {\n",
              "          const element = document.querySelector('#df-04ec6573-6839-43d0-8f59-9cae87052a41');\n",
              "          const dataTable =\n",
              "            await google.colab.kernel.invokeFunction('convertToInteractive',\n",
              "                                                     [key], {});\n",
              "          if (!dataTable) return;\n",
              "\n",
              "          const docLinkHtml = 'Like what you see? Visit the ' +\n",
              "            '<a target=\"_blank\" href=https://colab.research.google.com/notebooks/data_table.ipynb>data table notebook</a>'\n",
              "            + ' to learn more about interactive tables.';\n",
              "          element.innerHTML = '';\n",
              "          dataTable['output_type'] = 'display_data';\n",
              "          await google.colab.output.renderOutput(dataTable, element);\n",
              "          const docLink = document.createElement('div');\n",
              "          docLink.innerHTML = docLinkHtml;\n",
              "          element.appendChild(docLink);\n",
              "        }\n",
              "      </script>\n",
              "    </div>\n",
              "  </div>\n",
              "  "
            ]
          },
          "metadata": {},
          "execution_count": 10
        }
      ]
    },
    {
      "cell_type": "markdown",
      "source": [
        "The concat() function performs concatenation operations of multiple tables along one of the axes (row-wise or column-wise).\n",
        "\n",
        "By default concatenation is along axis 0, so the resulting table combines the rows of the input tables. "
      ],
      "metadata": {
        "id": "kLUfmz-Pd1iq"
      }
    },
    {
      "cell_type": "code",
      "source": [],
      "metadata": {
        "id": "MzXRoaSQnXNY"
      },
      "execution_count": null,
      "outputs": []
    }
  ],
  "metadata": {
    "colab": {
      "collapsed_sections": [
        "JndnmDMp66FL",
        "YHIWvc9Ms-Ll",
        "TJffr5_Jwqvd"
      ],
      "provenance": [],
      "include_colab_link": true
    },
    "kernelspec": {
      "name": "python3",
      "display_name": "Python 3"
    }
  },
  "nbformat": 4
}