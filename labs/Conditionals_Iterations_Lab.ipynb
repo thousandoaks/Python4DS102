{
  "metadata": {
    "orig_nbformat": 4,
    "language_info": {
      "name": "python",
      "version": "3.7.12",
      "mimetype": "text/x-python",
      "codemirror_mode": {
        "name": "ipython",
        "version": 3
      },
      "pygments_lexer": "ipython3",
      "nbconvert_exporter": "python",
      "file_extension": ".py"
    },
    "kernelspec": {
      "name": "python3",
      "display_name": "Python 3 (ipykernel)",
      "language": "python"
    },
    "colab": {
      "provenance": []
    }
  },
  "nbformat_minor": 5,
  "nbformat": 4,
  "cells": [
    {
      "cell_type": "markdown",
      "source": [
        "# Conditionals and Iterations Lab"
      ],
      "metadata": {
        "id": "708fc465-276a-42f1-a753-2e9024056f02"
      },
      "id": "708fc465-276a-42f1-a753-2e9024056f02"
    },
    {
      "cell_type": "markdown",
      "source": [
        "### Loops provide a means to perform the same action across multiple items. Multiple items are typically stored in a Python list object. Any list-like object can be iterated over (e.g., tuples, arrays, dataframes, dictionaries). \n",
        "\n"
      ],
      "metadata": {
        "id": "7a6f602b-b404-4ce6-98d1-b18d3a7d2e0b"
      },
      "id": "7a6f602b-b404-4ce6-98d1-b18d3a7d2e0b"
    },
    {
      "cell_type": "markdown",
      "source": [
        "### This lab will cover:\n",
        "1. Conditional execution\n",
        "2. Alternative execution\n",
        "3. Nested conditionals\n",
        "4. Iteration using loops\n",
        "\n"
      ],
      "metadata": {
        "id": "2060ecf8-52db-41ff-a2ba-a736ec9826a8"
      },
      "id": "2060ecf8-52db-41ff-a2ba-a736ec9826a8"
    },
    {
      "cell_type": "markdown",
      "source": [
        "### 0. Load required libraries"
      ],
      "metadata": {
        "id": "767855d7-2c07-48de-9667-5a5e6da5a60a"
      },
      "id": "767855d7-2c07-48de-9667-5a5e6da5a60a"
    },
    {
      "cell_type": "code",
      "source": [
        "import pandas as pd\n",
        "import seaborn as sns\n",
        "import matplotlib.pyplot as plt\n",
        "import numpy as np"
      ],
      "metadata": {
        "trusted": true,
        "id": "a06edd6c-4fca-44b4-946c-1ec28960f46a"
      },
      "execution_count": 12,
      "outputs": [],
      "id": "a06edd6c-4fca-44b4-946c-1ec28960f46a"
    },
    {
      "cell_type": "code",
      "source": [],
      "metadata": {
        "id": "3db7525a-18cc-4501-b989-bb3f3ffbf5b7"
      },
      "execution_count": 12,
      "outputs": [],
      "id": "3db7525a-18cc-4501-b989-bb3f3ffbf5b7"
    },
    {
      "cell_type": "code",
      "source": [],
      "metadata": {
        "id": "1a60a109-09bd-4a23-9b4b-28793be76473"
      },
      "execution_count": 12,
      "outputs": [],
      "id": "1a60a109-09bd-4a23-9b4b-28793be76473"
    },
    {
      "cell_type": "markdown",
      "source": [
        "### 1. Conditional execution"
      ],
      "metadata": {
        "id": "35ef7121-6074-49a6-9e18-7efdee1011ee"
      },
      "id": "35ef7121-6074-49a6-9e18-7efdee1011ee"
    },
    {
      "cell_type": "markdown",
      "source": [
        "#### In order to write useful programs, we almost always need the ability to check conditions and change the behavior of the program accordingly. Conditional statements give us this ability.\n",
        "#### We can ask Python to take different actions, depending on a condition, with an if statement."
      ],
      "metadata": {
        "id": "e3d8bd79-2862-474f-a166-f93c4f47f30f"
      },
      "id": "e3d8bd79-2862-474f-a166-f93c4f47f30f"
    },
    {
      "cell_type": "code",
      "source": [
        "num = 110\n",
        "if num > 100:\n",
        "    print('greater')\n",
        "else:\n",
        "    print('not greater')\n",
        "print('finished')"
      ],
      "metadata": {
        "trusted": true,
        "id": "5d1ed31b-f496-498f-b003-db195494e385",
        "outputId": "e1e6e95c-d7d1-49c1-c8b8-08ec27865e7c",
        "colab": {
          "base_uri": "https://localhost:8080/"
        }
      },
      "execution_count": 13,
      "outputs": [
        {
          "output_type": "stream",
          "name": "stdout",
          "text": [
            "greater\n",
            "finished\n"
          ]
        }
      ],
      "id": "5d1ed31b-f496-498f-b003-db195494e385"
    },
    {
      "cell_type": "code",
      "source": [
        "num = 37\n",
        "if num > 100:\n",
        "    print('greater')\n",
        "else:\n",
        "    print('not greater')\n",
        "print('finished')"
      ],
      "metadata": {
        "trusted": true,
        "id": "506e1b2c-cece-444f-964e-5808c7fa915b",
        "outputId": "253cc5b8-40f1-4574-bec5-3602cef16834",
        "colab": {
          "base_uri": "https://localhost:8080/"
        }
      },
      "execution_count": 14,
      "outputs": [
        {
          "output_type": "stream",
          "name": "stdout",
          "text": [
            "not greater\n",
            "finished\n"
          ]
        }
      ],
      "id": "506e1b2c-cece-444f-964e-5808c7fa915b"
    },
    {
      "cell_type": "markdown",
      "source": [
        "#### The second line of this code uses the keyword if to tell Python that we want to make a choice. If the test that follows the if statement is true, the body of the if (i.e., the set of lines indented underneath it) is executed, and “greater” is printed. If the test is false, the body of the else is executed instead, and “not greater” is printed. Only one or the other is ever executed before continuing on with program execution to print “finished”:"
      ],
      "metadata": {
        "id": "450429d6-ff81-4792-93e1-8718a6ac579d"
      },
      "id": "450429d6-ff81-4792-93e1-8718a6ac579d"
    },
    {
      "cell_type": "markdown",
      "source": [
        "<img src=\"https://github.com/thousandoaks/Python4DS102/blob/main/images/python-flowchart-conditional.png?raw=1\" width=\"300\" height=\"350\">"
      ],
      "metadata": {
        "id": "ba9e95e9-0a59-40c2-8788-071ca91b435a"
      },
      "id": "ba9e95e9-0a59-40c2-8788-071ca91b435a"
    },
    {
      "cell_type": "code",
      "source": [],
      "metadata": {
        "id": "8481b9da-454d-4b65-9b96-f1fd6523e984"
      },
      "execution_count": 14,
      "outputs": [],
      "id": "8481b9da-454d-4b65-9b96-f1fd6523e984"
    },
    {
      "cell_type": "markdown",
      "source": [
        "### 2. Alternative execution"
      ],
      "metadata": {
        "id": "92daaef2-2c9c-43e0-9a6c-84d2538fb46b"
      },
      "id": "92daaef2-2c9c-43e0-9a6c-84d2538fb46b"
    },
    {
      "cell_type": "markdown",
      "source": [
        "#### A second form of the if statement is “alternative execution”, in which there are two possibilities and the condition determines which one runs. The syntax looks like this:"
      ],
      "metadata": {
        "id": "525f55d6-b029-4da9-bba9-5b8bb3a17bdb"
      },
      "id": "525f55d6-b029-4da9-bba9-5b8bb3a17bdb"
    },
    {
      "cell_type": "code",
      "source": [
        "num = -3\n",
        "\n",
        "if num > 0:\n",
        "    print(num, 'is positive')\n",
        "elif num == 0:\n",
        "    print(num, 'is zero')\n",
        "else:\n",
        "    print(num, 'is negative')"
      ],
      "metadata": {
        "trusted": true,
        "id": "9724debd-7c66-4d01-82b3-56d25c63beb8",
        "outputId": "6b29b261-5be4-4a5b-8043-86da14faeae1",
        "colab": {
          "base_uri": "https://localhost:8080/"
        }
      },
      "execution_count": 15,
      "outputs": [
        {
          "output_type": "stream",
          "name": "stdout",
          "text": [
            "-3 is negative\n"
          ]
        }
      ],
      "id": "9724debd-7c66-4d01-82b3-56d25c63beb8"
    },
    {
      "cell_type": "code",
      "source": [
        "num = 30\n",
        "\n",
        "if num > 0:\n",
        "    print(num, 'is positive')\n",
        "elif num == 0:\n",
        "    print(num, 'is zero')\n",
        "else:\n",
        "    print(num, 'is negative')"
      ],
      "metadata": {
        "trusted": true,
        "id": "74930e81-a175-42de-93de-9d250af2380f",
        "outputId": "8f558921-d914-44e8-a65a-3def748f0dd6",
        "colab": {
          "base_uri": "https://localhost:8080/"
        }
      },
      "execution_count": 16,
      "outputs": [
        {
          "output_type": "stream",
          "name": "stdout",
          "text": [
            "30 is positive\n"
          ]
        }
      ],
      "id": "74930e81-a175-42de-93de-9d250af2380f"
    },
    {
      "cell_type": "code",
      "source": [],
      "metadata": {
        "id": "4589632d-32f7-4ddb-b26e-6b9bf4745056"
      },
      "execution_count": 16,
      "outputs": [],
      "id": "4589632d-32f7-4ddb-b26e-6b9bf4745056"
    },
    {
      "cell_type": "markdown",
      "source": [
        "### 3. Nested conditionals\n",
        "#### One conditional can also be nested within another."
      ],
      "metadata": {
        "id": "1d835c84-1197-436e-9c83-400958d1e491"
      },
      "id": "1d835c84-1197-436e-9c83-400958d1e491"
    },
    {
      "cell_type": "code",
      "source": [
        "x=34\n",
        "y=34"
      ],
      "metadata": {
        "trusted": true,
        "id": "b4685be2-8ec5-403e-a201-4bcb8e72b740"
      },
      "execution_count": 17,
      "outputs": [],
      "id": "b4685be2-8ec5-403e-a201-4bcb8e72b740"
    },
    {
      "cell_type": "code",
      "source": [
        "if x == y:\n",
        "    print('x and y are equal')\n",
        "else:\n",
        "    if x < y:\n",
        "        print('x is less than y')\n",
        "    else:\n",
        "        print('x is greater than y')"
      ],
      "metadata": {
        "trusted": true,
        "id": "ac40654a-9650-4b0c-89de-67f148c06ed5",
        "outputId": "b82a7d83-b492-412e-97f4-bb09e431f906",
        "colab": {
          "base_uri": "https://localhost:8080/"
        }
      },
      "execution_count": 18,
      "outputs": [
        {
          "output_type": "stream",
          "name": "stdout",
          "text": [
            "x and y are equal\n"
          ]
        }
      ],
      "id": "ac40654a-9650-4b0c-89de-67f148c06ed5"
    },
    {
      "cell_type": "code",
      "source": [
        "x=34\n",
        "y=4"
      ],
      "metadata": {
        "trusted": true,
        "id": "497e0617-2b4c-4921-9001-8f0e524fa59a"
      },
      "execution_count": 19,
      "outputs": [],
      "id": "497e0617-2b4c-4921-9001-8f0e524fa59a"
    },
    {
      "cell_type": "code",
      "source": [
        "if x == y:\n",
        "    print('x and y are equal')\n",
        "else:\n",
        "    if x < y:\n",
        "        print('x is less than y')\n",
        "    else:\n",
        "        print('x is greater than y')"
      ],
      "metadata": {
        "trusted": true,
        "id": "d34797d5-be33-4008-9224-aa010887e643",
        "outputId": "a0149231-6008-4241-ca35-cdf72472ef22",
        "colab": {
          "base_uri": "https://localhost:8080/"
        }
      },
      "execution_count": 20,
      "outputs": [
        {
          "output_type": "stream",
          "name": "stdout",
          "text": [
            "x is greater than y\n"
          ]
        }
      ],
      "id": "d34797d5-be33-4008-9224-aa010887e643"
    },
    {
      "cell_type": "markdown",
      "source": [
        "### 4. While Loops"
      ],
      "metadata": {
        "id": "0c431ff3-95f9-46fe-b240-41907fd4ae83"
      },
      "id": "0c431ff3-95f9-46fe-b240-41907fd4ae83"
    },
    {
      "cell_type": "markdown",
      "source": [
        "#### While loops are useful software routines to automate repetitive tasks. Repeating identical or similar tasks without making errors is something that computers do well and people do poorly.\n",
        "#### With the while loop we can execute a set of statements as long as a condition is true. In the following example as long as the variable \"i\" is lower than 6."
      ],
      "metadata": {
        "id": "dadc7534-83d6-43f4-a50f-61df255f3d8a"
      },
      "id": "dadc7534-83d6-43f4-a50f-61df255f3d8a"
    },
    {
      "cell_type": "code",
      "source": [
        "i = 1\n",
        "while i < 6:\n",
        "  print(\"I am at:\", i)\n",
        " \n",
        "  i += 1"
      ],
      "metadata": {
        "trusted": true,
        "id": "9c456264-d015-4176-a789-240be9463540",
        "outputId": "96ae1d06-2f05-4d1e-fe84-5d8a6990816c",
        "colab": {
          "base_uri": "https://localhost:8080/"
        }
      },
      "execution_count": 21,
      "outputs": [
        {
          "output_type": "stream",
          "name": "stdout",
          "text": [
            "I am at: 1\n",
            "I am at: 2\n",
            "I am at: 3\n",
            "I am at: 4\n",
            "I am at: 5\n"
          ]
        }
      ],
      "id": "9c456264-d015-4176-a789-240be9463540"
    },
    {
      "cell_type": "markdown",
      "source": [
        "#### More formally, here is the flow of execution for a while statement:\n",
        "\n",
        "1. Determine whether the condition is true or false.\n",
        "2. If false, exit the while statement and continue execution at the next statement.\n",
        "3. If the condition is true, run the body and then go back to step 1.\n",
        "\n",
        "#### This type of flow is called a loop because the third step loops back around to the top.\n",
        "\n",
        "#### The body of the loop should change the value of one or more variables so that the condition becomes false eventually and the loop terminates. Otherwise the loop will repeat forever, which is called an infinite loop.\n",
        "\n"
      ],
      "metadata": {
        "id": "05cbfe80-f989-4eb8-b5d5-8afde923b199"
      },
      "id": "05cbfe80-f989-4eb8-b5d5-8afde923b199"
    },
    {
      "cell_type": "code",
      "source": [],
      "metadata": {
        "id": "42ac588e-ccca-47a9-bc83-157bca36def9"
      },
      "execution_count": 21,
      "outputs": [],
      "id": "42ac588e-ccca-47a9-bc83-157bca36def9"
    },
    {
      "cell_type": "markdown",
      "source": [
        "#### 4.1. Break command"
      ],
      "metadata": {
        "id": "b36587dc-6aa6-4c45-9ec8-621c5c19da71"
      },
      "id": "b36587dc-6aa6-4c45-9ec8-621c5c19da71"
    },
    {
      "cell_type": "markdown",
      "source": [
        "#### Sometimes you don’t know it’s time to end a loop until you get half way through the body. In that case you can use the break statement to jump out of the loop.\n",
        "\n"
      ],
      "metadata": {
        "id": "5ba4b080-399a-4e97-ba4e-22afb7f86cda"
      },
      "id": "5ba4b080-399a-4e97-ba4e-22afb7f86cda"
    },
    {
      "cell_type": "code",
      "source": [
        "i = 1\n",
        "while i < 300:\n",
        "  print(i)\n",
        "  if i == 12:\n",
        "    print('found 12, I exit')\n",
        "    break\n",
        "  i += 1"
      ],
      "metadata": {
        "trusted": true,
        "id": "60973133-9c13-447e-8e6e-e9d17d80845c",
        "outputId": "7663cd90-dcca-4e0d-a187-a9fc84d25762",
        "colab": {
          "base_uri": "https://localhost:8080/"
        }
      },
      "execution_count": 22,
      "outputs": [
        {
          "output_type": "stream",
          "name": "stdout",
          "text": [
            "1\n",
            "2\n",
            "3\n",
            "4\n",
            "5\n",
            "6\n",
            "7\n",
            "8\n",
            "9\n",
            "10\n",
            "11\n",
            "12\n",
            "found 12, I exit\n"
          ]
        }
      ],
      "id": "60973133-9c13-447e-8e6e-e9d17d80845c"
    },
    {
      "cell_type": "markdown",
      "source": [
        "##### Or for instance when the loop needs to wait for user input"
      ],
      "metadata": {
        "id": "b36b8ed9-06fc-44d5-8da4-05910b9585b1"
      },
      "id": "b36b8ed9-06fc-44d5-8da4-05910b9585b1"
    },
    {
      "cell_type": "code",
      "source": [
        "print('You can stop me by typing the word \"done\"')\n",
        "while True:\n",
        "    line = input('> ')\n",
        "    if line == 'done':\n",
        "        break\n",
        "    print(line)\n",
        "\n",
        "print('Done!')"
      ],
      "metadata": {
        "trusted": true,
        "id": "9b62024d-789c-4cec-b7f1-55473a2e383f",
        "outputId": "cd9accb1-1cc4-4d6e-d224-965ca545cc51",
        "colab": {
          "base_uri": "https://localhost:8080/"
        }
      },
      "execution_count": 23,
      "outputs": [
        {
          "output_type": "stream",
          "name": "stdout",
          "text": [
            "You can stop me by typing the word \"done\"\n",
            "> done\n",
            "Done!\n"
          ]
        }
      ],
      "id": "9b62024d-789c-4cec-b7f1-55473a2e383f"
    },
    {
      "cell_type": "code",
      "source": [],
      "metadata": {
        "id": "96c1c655-f07f-4c84-a57e-52c718892379"
      },
      "execution_count": 23,
      "outputs": [],
      "id": "96c1c655-f07f-4c84-a57e-52c718892379"
    },
    {
      "cell_type": "markdown",
      "source": [
        "### 6. For Loops\n",
        "#### A for loop is commonly used for iterating over a sequence (that is either a list, a tuple, a dictionary, a set, or a string)."
      ],
      "metadata": {
        "id": "fb1034a2-cacc-46a6-b90c-c126aa55c977"
      },
      "id": "fb1034a2-cacc-46a6-b90c-c126aa55c977"
    },
    {
      "cell_type": "code",
      "source": [
        "fruits = [\"apple\", \"banana\", \"cherry\",\"tomato\",\"pomegranate\",\"orange\"]"
      ],
      "metadata": {
        "trusted": true,
        "id": "6cfd807b-739d-4c1c-aaa2-361aac8cd8e9"
      },
      "execution_count": 24,
      "outputs": [],
      "id": "6cfd807b-739d-4c1c-aaa2-361aac8cd8e9"
    },
    {
      "cell_type": "code",
      "source": [
        "for element in fruits:\n",
        "  print(element)"
      ],
      "metadata": {
        "trusted": true,
        "id": "254d2073-c500-4d86-825f-9891f1621f17",
        "outputId": "22ad9618-509a-4ebf-b274-0f0520d3c377",
        "colab": {
          "base_uri": "https://localhost:8080/"
        }
      },
      "execution_count": 25,
      "outputs": [
        {
          "output_type": "stream",
          "name": "stdout",
          "text": [
            "apple\n",
            "banana\n",
            "cherry\n",
            "tomato\n",
            "pomegranate\n",
            "orange\n"
          ]
        }
      ],
      "id": "254d2073-c500-4d86-825f-9891f1621f17"
    },
    {
      "cell_type": "code",
      "source": [
        "for element in fruits:\n",
        "  print('I am processing:',element)\n",
        "  processed=element.capitalize()\n",
        "  print('I got:',processed)\n",
        "  print('\\n')"
      ],
      "metadata": {
        "trusted": true,
        "id": "71eece98-0c4d-47c5-90d5-ca30638e6400",
        "outputId": "c2db062d-57c0-42b5-9764-00446b5a6cc3",
        "colab": {
          "base_uri": "https://localhost:8080/"
        }
      },
      "execution_count": 26,
      "outputs": [
        {
          "output_type": "stream",
          "name": "stdout",
          "text": [
            "I am processing: apple\n",
            "I got: Apple\n",
            "\n",
            "\n",
            "I am processing: banana\n",
            "I got: Banana\n",
            "\n",
            "\n",
            "I am processing: cherry\n",
            "I got: Cherry\n",
            "\n",
            "\n",
            "I am processing: tomato\n",
            "I got: Tomato\n",
            "\n",
            "\n",
            "I am processing: pomegranate\n",
            "I got: Pomegranate\n",
            "\n",
            "\n",
            "I am processing: orange\n",
            "I got: Orange\n",
            "\n",
            "\n"
          ]
        }
      ],
      "id": "71eece98-0c4d-47c5-90d5-ca30638e6400"
    },
    {
      "cell_type": "code",
      "source": [
        "for element in fruits:\n",
        "    elementupper=element.upper()\n",
        "    print(elementupper)"
      ],
      "metadata": {
        "trusted": true,
        "id": "70729a64-3de5-4712-9d3d-c20abe0197f0",
        "outputId": "10f9078b-f624-47f4-c887-84de9c802740",
        "colab": {
          "base_uri": "https://localhost:8080/"
        }
      },
      "execution_count": 27,
      "outputs": [
        {
          "output_type": "stream",
          "name": "stdout",
          "text": [
            "APPLE\n",
            "BANANA\n",
            "CHERRY\n",
            "TOMATO\n",
            "POMEGRANATE\n",
            "ORANGE\n"
          ]
        }
      ],
      "id": "70729a64-3de5-4712-9d3d-c20abe0197f0"
    },
    {
      "cell_type": "markdown",
      "source": [
        "#### we can use for loops to create new objects"
      ],
      "metadata": {
        "id": "23f47aa1-c07e-4d8a-a6b0-b927340f0df9"
      },
      "id": "23f47aa1-c07e-4d8a-a6b0-b927340f0df9"
    },
    {
      "cell_type": "code",
      "source": [
        "fruits = [\"apple\", \"banana\", \"cherry\", \"kiwi\", \"mango\",\"tomato\",\"orange\",\"berry\"]\n",
        "newlist = []\n",
        "\n",
        "for item in fruits:\n",
        "  if \"a\" in item:\n",
        "    newlist.append(item)\n",
        "\n",
        "print(newlist)"
      ],
      "metadata": {
        "trusted": true,
        "id": "ded3278f-735f-4086-b577-bda84c0b7e67",
        "outputId": "2e06be35-3797-4d06-f6e4-88dd1521ddd8",
        "colab": {
          "base_uri": "https://localhost:8080/"
        }
      },
      "execution_count": 28,
      "outputs": [
        {
          "output_type": "stream",
          "name": "stdout",
          "text": [
            "['apple', 'banana', 'mango', 'tomato', 'orange']\n"
          ]
        }
      ],
      "id": "ded3278f-735f-4086-b577-bda84c0b7e67"
    },
    {
      "cell_type": "markdown",
      "source": [
        "#### 6.1. Range command\n",
        "#### To loop through a set of code a specified number of times, we can use the range() function"
      ],
      "metadata": {
        "id": "74fec1c5-419c-41b6-b2bf-d2be7889fb3d"
      },
      "id": "74fec1c5-419c-41b6-b2bf-d2be7889fb3d"
    },
    {
      "cell_type": "code",
      "source": [
        "range(0,5)"
      ],
      "metadata": {
        "trusted": true,
        "id": "e448764e-4cac-4978-9d38-e1882239e4b2",
        "outputId": "ab6e8836-8c6f-472f-8e60-0978bad20a34",
        "colab": {
          "base_uri": "https://localhost:8080/"
        }
      },
      "execution_count": 29,
      "outputs": [
        {
          "output_type": "execute_result",
          "data": {
            "text/plain": [
              "range(0, 5)"
            ]
          },
          "metadata": {},
          "execution_count": 29
        }
      ],
      "id": "e448764e-4cac-4978-9d38-e1882239e4b2"
    },
    {
      "cell_type": "code",
      "source": [
        "list(range(0,5))"
      ],
      "metadata": {
        "trusted": true,
        "id": "3b528b40-cbe2-4bba-8818-aa0a8bdc8693",
        "outputId": "64dbdadc-4185-466d-e919-0cac15314d83",
        "colab": {
          "base_uri": "https://localhost:8080/"
        }
      },
      "execution_count": 30,
      "outputs": [
        {
          "output_type": "execute_result",
          "data": {
            "text/plain": [
              "[0, 1, 2, 3, 4]"
            ]
          },
          "metadata": {},
          "execution_count": 30
        }
      ],
      "id": "3b528b40-cbe2-4bba-8818-aa0a8bdc8693"
    },
    {
      "cell_type": "code",
      "source": [
        "\n",
        "for x in range(0,5):\n",
        "  print(\"I am at:\",x)"
      ],
      "metadata": {
        "trusted": true,
        "id": "3261b62b-31f2-4ac2-97af-51b9563b9858",
        "outputId": "b26e63d1-324f-42d9-f559-81d6df72ba3c",
        "colab": {
          "base_uri": "https://localhost:8080/"
        }
      },
      "execution_count": 31,
      "outputs": [
        {
          "output_type": "stream",
          "name": "stdout",
          "text": [
            "I am at: 0\n",
            "I am at: 1\n",
            "I am at: 2\n",
            "I am at: 3\n",
            "I am at: 4\n"
          ]
        }
      ],
      "id": "3261b62b-31f2-4ac2-97af-51b9563b9858"
    },
    {
      "cell_type": "code",
      "source": [],
      "metadata": {
        "id": "864658c8-a3dc-495e-be36-481b00a8732a"
      },
      "execution_count": 31,
      "outputs": [],
      "id": "864658c8-a3dc-495e-be36-481b00a8732a"
    }
  ]
}